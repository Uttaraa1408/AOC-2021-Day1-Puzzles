{
 "cells": [
  {
   "cell_type": "markdown",
   "id": "ee434a6b-9c33-4ca1-bec3-baa68d7d1168",
   "metadata": {},
   "source": [
    "# HW4 - Part1 - AOC 2021 - Day 1, Puzzle 1"
   ]
  },
  {
   "cell_type": "code",
   "execution_count": 51,
   "id": "7c9e5703-9f38-4419-9c6a-dbeac68ed55c",
   "metadata": {},
   "outputs": [
    {
     "name": "stdout",
     "output_type": "stream",
     "text": [
      "Current Working Directory: D:\\Winter 2025\\MIS 5470 PCDA\\WEEK 9\\HW4_Uttara_Bammireddy\\AOC_2021\\Day1\\data\n"
     ]
    }
   ],
   "source": [
    "import os\n",
    "\n",
    "#Printing the Current Working Directory to make sure you don't have error while reading the input file\n",
    "print(\"Current Working Directory:\", os.getcwd()) "
   ]
  },
  {
   "cell_type": "code",
   "execution_count": 52,
   "id": "830dd566-024d-4147-a8d0-e80f2a69c752",
   "metadata": {},
   "outputs": [
    {
     "name": "stdout",
     "output_type": "stream",
     "text": [
      "First 5 lines: ['157', '158', '167', '157', '148']\n"
     ]
    }
   ],
   "source": [
    "#Loading the input file\n",
    "data_file = \"input.txt\" \n",
    "\n",
    "#opening the file\n",
    "with open(data_file, 'r') as input_file:\n",
    "    depths = input_file.read().splitlines()\n",
    "\n",
    "#Displaying the first 5 lines\n",
    "print(\"First 5 lines:\", depths[:5]) "
   ]
  },
  {
   "cell_type": "code",
   "execution_count": 53,
   "id": "7b61900b-e62f-4f92-b346-3661b1f2e5d0",
   "metadata": {},
   "outputs": [],
   "source": [
    "#Changing from str to int\n",
    "depths = [int(depth) for depth in depths]"
   ]
  },
  {
   "cell_type": "code",
   "execution_count": 54,
   "id": "c83d83d4-5854-44f3-8611-a662ba222687",
   "metadata": {},
   "outputs": [
    {
     "data": {
      "text/plain": [
       "[157, 158, 167, 157, 148]"
      ]
     },
     "execution_count": 54,
     "metadata": {},
     "output_type": "execute_result"
    }
   ],
   "source": [
    "depths[:5]"
   ]
  },
  {
   "cell_type": "code",
   "execution_count": 55,
   "id": "c161ef45-f52f-459d-b1e1-10c6c2fb90e1",
   "metadata": {},
   "outputs": [],
   "source": [
    "#Function to count the number of times the depth measurement increases\n",
    "\n",
    "def count_increase(depths):\n",
    "    count = 0                #Initializing count from 0\n",
    "\n",
    "    for i in range(1, len(depths)):\n",
    "        previous_depth = depths[i - 1]  #Previous Depth Measurement\n",
    "        current_depth = depths[i]       #Current Depth Measurement\n",
    "\n",
    "        if current_depth > previous_depth:\n",
    "            count += 1       # Increase count by 1\n",
    "\n",
    "    return count\n",
    "        "
   ]
  },
  {
   "cell_type": "code",
   "execution_count": 56,
   "id": "e50ac057-5749-4428-8083-78a3b02d3803",
   "metadata": {},
   "outputs": [
    {
     "name": "stdout",
     "output_type": "stream",
     "text": [
      "No. of Increases: 1292\n"
     ]
    }
   ],
   "source": [
    "print(\"No. of Increases:\",count_increase(depths)) # Calling the function in print statement"
   ]
  },
  {
   "cell_type": "code",
   "execution_count": 57,
   "id": "52ebe484-65ae-4d80-be4f-24d7dd1ec66c",
   "metadata": {},
   "outputs": [
    {
     "name": "stdout",
     "output_type": "stream",
     "text": [
      "Puzzle 1: 1292\n"
     ]
    }
   ],
   "source": [
    "print(f'Puzzle 1: {count_increase(depths)}') "
   ]
  },
  {
   "cell_type": "markdown",
   "id": "ea21accc-6275-4df2-a2e1-86927db3f920",
   "metadata": {},
   "source": [
    "# Day 1, Puzzle 2"
   ]
  },
  {
   "cell_type": "code",
   "execution_count": 73,
   "id": "913f8a62-06fd-4322-87c4-bd1bcfef8b34",
   "metadata": {},
   "outputs": [],
   "source": [
    "# Function to count the number of times the sum of sliding window increases\n",
    "\n",
    "def count_sliding_window_increase(depths, window_size = 3): \n",
    "    # Ensuring there are enough measurements to create at least one window\n",
    "    if len(depths) < window_size:\n",
    "        return 0\n",
    "      \n",
    "        # Intializing count from 0\n",
    "    sliding_count = 0  \n",
    "    previous_sum = sum(depths[:window_size]) # First Window Sum\n",
    "    \n",
    " # Moving a window of 3 elements across the list, summing them, and tracking when the sum grows. \n",
    "    for i in range(1, len(depths) - window_size + 1):\n",
    "        current_sum = sum(depths[i : i + window_size]) # Computing the sum of current window\n",
    "\n",
    "        if current_sum > previous_sum:\n",
    "            sliding_count += 1   # Increase count by 1\n",
    "\n",
    "        previous_sum = current_sum   # Updating previous sum for next iteration\n",
    "            \n",
    "    return sliding_count"
   ]
  },
  {
   "cell_type": "code",
   "execution_count": 74,
   "id": "3f2eb2c7-6a78-47d7-862a-cec14145544e",
   "metadata": {},
   "outputs": [
    {
     "name": "stdout",
     "output_type": "stream",
     "text": [
      "No. of sliding window increase: 1262\n"
     ]
    }
   ],
   "source": [
    "print(\"No. of sliding window increase:\", count_sliding_window_increase(depths))  # Calling the function in Print result"
   ]
  },
  {
   "cell_type": "code",
   "execution_count": 75,
   "id": "895cbb66-531f-463c-bcca-5f0227f73f05",
   "metadata": {},
   "outputs": [
    {
     "name": "stdout",
     "output_type": "stream",
     "text": [
      "Puzzle 2: 1262\n"
     ]
    }
   ],
   "source": [
    "print(f'Puzzle 2: {count_sliding_window_increase(depths)}') "
   ]
  }
 ],
 "metadata": {
  "kernelspec": {
   "display_name": "Python [conda env:datasci]",
   "language": "python",
   "name": "conda-env-datasci-py"
  },
  "language_info": {
   "codemirror_mode": {
    "name": "ipython",
    "version": 3
   },
   "file_extension": ".py",
   "mimetype": "text/x-python",
   "name": "python",
   "nbconvert_exporter": "python",
   "pygments_lexer": "ipython3",
   "version": "3.8.20"
  }
 },
 "nbformat": 4,
 "nbformat_minor": 5
}
